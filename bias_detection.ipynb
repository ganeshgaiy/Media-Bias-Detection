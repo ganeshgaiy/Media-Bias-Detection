{
  "nbformat": 4,
  "nbformat_minor": 0,
  "metadata": {
    "colab": {
      "provenance": [],
      "machine_shape": "hm",
      "gpuType": "T4",
      "mount_file_id": "1LDOJgqUuhEYOsHwFOpDSKWU5BmwnmyU4",
      "authorship_tag": "ABX9TyPCfLPd9ODZxpnbl9vh8mUN",
      "include_colab_link": true
    },
    "kernelspec": {
      "name": "python3",
      "display_name": "Python 3"
    },
    "language_info": {
      "name": "python"
    },
    "accelerator": "GPU"
  },
  "cells": [
    {
      "cell_type": "markdown",
      "metadata": {
        "id": "view-in-github",
        "colab_type": "text"
      },
      "source": [
        "<a href=\"https://colab.research.google.com/github/ganeshgaiy/Media-Bias-Detection/blob/main/bias_detection.ipynb\" target=\"_parent\"><img src=\"https://colab.research.google.com/assets/colab-badge.svg\" alt=\"Open In Colab\"/></a>"
      ]
    },
    {
      "cell_type": "code",
      "source": [
        "import os\n",
        "import json\n",
        "from collections import Counter"
      ],
      "metadata": {
        "id": "8XaEHpidSTdJ"
      },
      "execution_count": null,
      "outputs": []
    },
    {
      "cell_type": "code",
      "execution_count": null,
      "metadata": {
        "id": "9SOMBvaYJ971"
      },
      "outputs": [],
      "source": [
        "# Define the directory containing your dataset\n",
        "DATA_DIRECTORY = '/content/drive/MyDrive/Colab Notebooks/NLP CLASS/project/dataset'\n"
      ]
    },
    {
      "cell_type": "code",
      "source": [
        "# Mappings for missing fields\n",
        "MAIN_EVENT_UPDATES = {\n",
        "    \"39_nyt.json\": \"Democratic filibuster to block Neil Gorsuch's Supreme Court nomination\",\n",
        "    \"39_fox.json\": \"Republicans' nuclear option to confirm Neil Gorsuch amid Democratic opposition\",\n",
        "    \"79_hpo.json\": \"Shooting incident during congressional baseball practice injures Steve Scalise and others\",\n",
        "    \"79_fox.json\": \"Aftermath of congressional baseball practice shooting prompts calls for enhanced lawmaker security\",\n",
        "}\n",
        "\n",
        "TITLE_UPDATES = {\n",
        "    \"83_nyt.json\": \"Raul Labrador's Conservative Challenge for House Majority Leadership\",\n",
        "}"
      ],
      "metadata": {
        "id": "F7FoyVEFnmW8"
      },
      "execution_count": null,
      "outputs": []
    },
    {
      "cell_type": "code",
      "source": [
        "def rename_files_to_lowercase(directory):\n",
        "    \"\"\"\n",
        "    Renames all files in the specified directory to lowercase.\n",
        "    \"\"\"\n",
        "    for filename in os.listdir(directory):\n",
        "        lowercase_filename = filename.lower()\n",
        "        os.rename(\n",
        "            os.path.join(directory, filename),\n",
        "            os.path.join(directory, lowercase_filename)\n",
        "        )\n",
        "    print(\"All files renamed to lowercase.\")"
      ],
      "metadata": {
        "id": "VkxuElKWQkk7"
      },
      "execution_count": null,
      "outputs": []
    },
    {
      "cell_type": "code",
      "source": [
        "rename_files_to_lowercase(DATA_DIRECTORY)"
      ],
      "metadata": {
        "colab": {
          "base_uri": "https://localhost:8080/"
        },
        "id": "dZ4w5oLzSatw",
        "outputId": "e59615e1-efdd-4795-c0f2-f0807bdff1b1"
      },
      "execution_count": null,
      "outputs": [
        {
          "output_type": "stream",
          "name": "stdout",
          "text": [
            "All files renamed to lowercase.\n"
          ]
        }
      ]
    },
    {
      "cell_type": "code",
      "source": [],
      "metadata": {
        "id": "rsRx4qTsDvsj"
      },
      "execution_count": null,
      "outputs": []
    },
    {
      "cell_type": "code",
      "source": [
        "def load_articles(directory):\n",
        "    \"\"\"\n",
        "    Loads articles from JSON files in the specified directory.\n",
        "    Returns a list of article dictionaries.\n",
        "    \"\"\"\n",
        "    articles = []\n",
        "    for filename in os.listdir(directory):\n",
        "        if filename.endswith('.json'):\n",
        "            filepath = os.path.join(directory, filename)\n",
        "            try:\n",
        "                with open(filepath, 'r', encoding='utf-8') as file:\n",
        "                    article = json.load(file)\n",
        "                    articles.append(article)\n",
        "            except json.JSONDecodeError as e:\n",
        "                print(f\"Error decoding JSON from file {filename}: {e}\")\n",
        "    return articles\n"
      ],
      "metadata": {
        "id": "IPYgfM8DXXX8"
      },
      "execution_count": null,
      "outputs": []
    },
    {
      "cell_type": "code",
      "source": [
        "articles = load_articles(DATA_DIRECTORY)"
      ],
      "metadata": {
        "id": "b3MrNmpJInb1"
      },
      "execution_count": null,
      "outputs": []
    },
    {
      "cell_type": "code",
      "source": [
        "def standardize_source_field(directory):\n",
        "    \"\"\"\n",
        "    Standardizes the 'source' field in all JSON files to lowercase.\n",
        "    \"\"\"\n",
        "    for filename in os.listdir(directory):\n",
        "        if filename.endswith('.json'):\n",
        "            filepath = os.path.join(directory, filename)\n",
        "            try:\n",
        "                with open(filepath, 'r+', encoding='utf-8') as file:\n",
        "                    data = json.load(file)\n",
        "                    if 'source' in data:\n",
        "                        data['source'] = data['source'].lower()\n",
        "                        file.seek(0)\n",
        "                        json.dump(data, file, indent=4)\n",
        "                        file.truncate()\n",
        "                        print(f\"Standardized 'source' field in {filename}\")\n",
        "            except json.JSONDecodeError as e:\n",
        "                print(f\"Error decoding JSON from file {filename}: {e}\")"
      ],
      "metadata": {
        "id": "fdJv1ZP-I0t-"
      },
      "execution_count": null,
      "outputs": []
    },
    {
      "cell_type": "code",
      "source": [
        "standardize_source_field(DATA_DIRECTORY)"
      ],
      "metadata": {
        "colab": {
          "base_uri": "https://localhost:8080/"
        },
        "id": "u-gzfHpTI1rP",
        "outputId": "519a9eeb-6e2f-45a6-d1e2-a596917e8a86"
      },
      "execution_count": null,
      "outputs": [
        {
          "output_type": "stream",
          "name": "stdout",
          "text": [
            "Standardized 'source' field in 9_hpo.json\n",
            "Standardized 'source' field in 8_hpo.json\n",
            "Standardized 'source' field in 53_nyt.json\n",
            "Standardized 'source' field in 11_hpo.json\n",
            "Standardized 'source' field in 56_fox.json\n",
            "Standardized 'source' field in 7_fox.json\n",
            "Standardized 'source' field in 58_hpo.json\n",
            "Standardized 'source' field in 8_nyt.json\n",
            "Standardized 'source' field in 10_nyt.json\n",
            "Standardized 'source' field in 67_hpo.json\n",
            "Standardized 'source' field in 69_fox.json\n",
            "Standardized 'source' field in 59_hpo.json\n",
            "Standardized 'source' field in 3_hpo.json\n",
            "Standardized 'source' field in 25_hpo.json\n",
            "Standardized 'source' field in 52_hpo.json\n",
            "Standardized 'source' field in 59_nyt.json\n",
            "Standardized 'source' field in 9_nyt.json\n",
            "Standardized 'source' field in 62_fox.json\n",
            "Standardized 'source' field in 14_fox.json\n",
            "Standardized 'source' field in 2_nyt.json\n",
            "Standardized 'source' field in 3_nyt.json\n",
            "Standardized 'source' field in 10_hpo.json\n",
            "Standardized 'source' field in 21_fox.json\n",
            "Standardized 'source' field in 82_hpo.json\n",
            "Standardized 'source' field in 2_hpo.json\n",
            "Standardized 'source' field in 53_hpo.json\n",
            "Standardized 'source' field in 66_nyt.json\n",
            "Standardized 'source' field in 20_fox.json\n",
            "Standardized 'source' field in 83_hpo.json\n",
            "Standardized 'source' field in 25_nyt.json\n",
            "Standardized 'source' field in 67_nyt.json\n",
            "Standardized 'source' field in 68_fox.json\n",
            "Standardized 'source' field in 88_hpo.json\n",
            "Standardized 'source' field in 82_nyt.json\n",
            "Standardized 'source' field in 6_fox.json\n",
            "Standardized 'source' field in 87_fox.json\n",
            "Standardized 'source' field in 89_hpo.json\n",
            "Standardized 'source' field in 57_fox.json\n",
            "Standardized 'source' field in 35_hpo.json\n",
            "Standardized 'source' field in 15_fox.json\n",
            "Standardized 'source' field in 75_fox.json\n",
            "Standardized 'source' field in 24_hpo.json\n",
            "Standardized 'source' field in 99_hpo.json\n",
            "Standardized 'source' field in 88_nyt.json\n",
            "Standardized 'source' field in 91_fox.json\n",
            "Standardized 'source' field in 94_nyt.json\n",
            "Standardized 'source' field in 74_fox.json\n",
            "Standardized 'source' field in 94_hpo.json\n",
            "Standardized 'source' field in 70_hpo.json\n",
            "Standardized 'source' field in 44_nyt.json\n",
            "Standardized 'source' field in 93_nyt.json\n",
            "Standardized 'source' field in 45_hpo.json\n",
            "Standardized 'source' field in 72_fox.json\n",
            "Standardized 'source' field in 43_hpo.json\n",
            "Standardized 'source' field in 40_fox.json\n",
            "Standardized 'source' field in 71_hpo.json\n",
            "Standardized 'source' field in 71_nyt.json\n",
            "Standardized 'source' field in 73_fox.json\n",
            "Standardized 'source' field in 97_fox.json\n",
            "Standardized 'source' field in 44_hpo.json\n",
            "Standardized 'source' field in 34_hpo.json\n",
            "Standardized 'source' field in 33_nyt.json\n",
            "Standardized 'source' field in 66_hpo.json\n",
            "Standardized 'source' field in 41_fox.json\n",
            "Standardized 'source' field in 90_fox.json\n",
            "Standardized 'source' field in 33_hpo.json\n",
            "Standardized 'source' field in 38_nyt.json\n",
            "Standardized 'source' field in 89_nyt.json\n",
            "Standardized 'source' field in 32_hpo.json\n",
            "Standardized 'source' field in 76_nyt.json\n",
            "Standardized 'source' field in 32_nyt.json\n",
            "Standardized 'source' field in 49_nyt.json\n",
            "Standardized 'source' field in 38_hpo.json\n",
            "Standardized 'source' field in 37_fox.json\n",
            "Standardized 'source' field in 98_hpo.json\n",
            "Standardized 'source' field in 36_fox.json\n",
            "Standardized 'source' field in 39_hpo.json\n",
            "Standardized 'source' field in 84_nyt.json\n",
            "Standardized 'source' field in 28_nyt.json\n",
            "Standardized 'source' field in 55_hpo.json\n",
            "Standardized 'source' field in 85_hpo.json\n",
            "Standardized 'source' field in 22_nyt.json\n",
            "Standardized 'source' field in 54_hpo.json\n",
            "Standardized 'source' field in 92_nyt.json\n",
            "Standardized 'source' field in 17_hpo.json\n",
            "Standardized 'source' field in 17_nyt.json\n",
            "Standardized 'source' field in 23_hpo.json\n",
            "Standardized 'source' field in 93_hpo.json\n",
            "Standardized 'source' field in 64_fox.json\n",
            "Standardized 'source' field in 31_fox.json\n",
            "Standardized 'source' field in 4_hpo.json\n",
            "Standardized 'source' field in 77_hpo.json\n",
            "Standardized 'source' field in 48_hpo.json\n",
            "Standardized 'source' field in 92_hpo.json\n",
            "Standardized 'source' field in 80_fox.json\n",
            "Standardized 'source' field in 5_hpo.json\n",
            "Standardized 'source' field in 0_fox.json\n",
            "Standardized 'source' field in 78_fox.json\n",
            "Standardized 'source' field in 84_hpo.json\n",
            "Standardized 'source' field in 12_fox.json\n",
            "Standardized 'source' field in 13_fox.json\n",
            "Standardized 'source' field in 27_fox.json\n",
            "Standardized 'source' field in 98_nyt.json\n",
            "Standardized 'source' field in 76_hpo.json\n",
            "Standardized 'source' field in 49_hpo.json\n",
            "Standardized 'source' field in 43_nyt.json\n",
            "Standardized 'source' field in 29_nyt.json\n",
            "Standardized 'source' field in 34_nyt.json\n",
            "Standardized 'source' field in 16_hpo.json\n",
            "Standardized 'source' field in 16_nyt.json\n",
            "Standardized 'source' field in 23_nyt.json\n",
            "Standardized 'source' field in 85_nyt.json\n",
            "Standardized 'source' field in 99_nyt.json\n",
            "Standardized 'source' field in 81_fox.json\n",
            "Standardized 'source' field in 35_nyt.json\n",
            "Standardized 'source' field in 30_fox.json\n",
            "Standardized 'source' field in 61_nyt.json\n",
            "Standardized 'source' field in 22_hpo.json\n",
            "Standardized 'source' field in 98_fox.json\n",
            "Standardized 'source' field in 34_fox.json\n",
            "Standardized 'source' field in 72_hpo.json\n",
            "Standardized 'source' field in 46_hpo.json\n",
            "Standardized 'source' field in 81_hpo.json\n",
            "Standardized 'source' field in 5_nyt.json\n",
            "Standardized 'source' field in 79_nyt.json\n",
            "Standardized 'source' field in 78_nyt.json\n",
            "Standardized 'source' field in 49_fox.json\n",
            "Standardized 'source' field in 30_hpo.json\n",
            "Standardized 'source' field in 31_hpo.json\n",
            "Standardized 'source' field in 50_fox.json\n",
            "Standardized 'source' field in 54_nyt.json\n",
            "Standardized 'source' field in 47_hpo.json\n",
            "Standardized 'source' field in 78_hpo.json\n",
            "Standardized 'source' field in 4_nyt.json\n",
            "Standardized 'source' field in 97_nyt.json\n",
            "Standardized 'source' field in 19_fox.json\n",
            "Standardized 'source' field in 55_nyt.json\n",
            "Standardized 'source' field in 60_hpo.json\n",
            "Standardized 'source' field in 80_hpo.json\n",
            "Standardized 'source' field in 92_fox.json\n",
            "Standardized 'source' field in 28_hpo.json\n",
            "Standardized 'source' field in 18_fox.json\n",
            "Standardized 'source' field in 93_fox.json\n",
            "Standardized 'source' field in 51_fox.json\n",
            "Standardized 'source' field in 73_hpo.json\n",
            "Standardized 'source' field in 61_hpo.json\n",
            "Standardized 'source' field in 72_nyt.json\n",
            "Standardized 'source' field in 99_fox.json\n",
            "Standardized 'source' field in 31_nyt.json\n",
            "Standardized 'source' field in 73_nyt.json\n",
            "Standardized 'source' field in 1_fox.json\n",
            "Standardized 'source' field in 43_fox.json\n",
            "Standardized 'source' field in 30_nyt.json\n",
            "Standardized 'source' field in 35_fox.json\n",
            "Standardized 'source' field in 97_hpo.json\n",
            "Standardized 'source' field in 13_hpo.json\n",
            "Standardized 'source' field in 29_hpo.json\n",
            "Standardized 'source' field in 81_nyt.json\n",
            "Standardized 'source' field in 14_hpo.json\n",
            "Standardized 'source' field in 18_nyt.json\n",
            "Standardized 'source' field in 17_fox.json\n",
            "Standardized 'source' field in 4_fox.json\n",
            "Standardized 'source' field in 1_nyt.json\n",
            "Standardized 'source' field in 22_fox.json\n",
            "Standardized 'source' field in 28_fox.json\n",
            "Standardized 'source' field in 84_fox.json\n",
            "Standardized 'source' field in 29_fox.json\n",
            "Standardized 'source' field in 50_hpo.json\n",
            "Standardized 'source' field in 80_nyt.json\n",
            "Standardized 'source' field in 19_nyt.json\n",
            "Standardized 'source' field in 50_nyt.json\n",
            "Standardized 'source' field in 87_hpo.json\n",
            "Standardized 'source' field in 27_nyt.json\n",
            "Standardized 'source' field in 5_fox.json\n",
            "Standardized 'source' field in 15_hpo.json\n",
            "Standardized 'source' field in 64_nyt.json\n",
            "Standardized 'source' field in 61_fox.json\n",
            "Standardized 'source' field in 0_hpo.json\n",
            "Standardized 'source' field in 19_hpo.json\n",
            "Standardized 'source' field in 23_fox.json\n",
            "Standardized 'source' field in 54_fox.json\n",
            "Standardized 'source' field in 0_nyt.json\n",
            "Standardized 'source' field in 16_fox.json\n",
            "Standardized 'source' field in 12_hpo.json\n",
            "Standardized 'source' field in 25_fox.json\n",
            "Standardized 'source' field in 86_hpo.json\n",
            "Standardized 'source' field in 12_nyt.json\n",
            "Standardized 'source' field in 26_hpo.json\n",
            "Standardized 'source' field in 69_nyt.json\n",
            "Standardized 'source' field in 55_fox.json\n",
            "Standardized 'source' field in 1_hpo.json\n",
            "Standardized 'source' field in 27_hpo.json\n",
            "Standardized 'source' field in 13_nyt.json\n",
            "Standardized 'source' field in 51_nyt.json\n",
            "Standardized 'source' field in 57_nyt.json\n",
            "Standardized 'source' field in 64_hpo.json\n",
            "Standardized 'source' field in 18_hpo.json\n",
            "Standardized 'source' field in 51_hpo.json\n",
            "Standardized 'source' field in 68_nyt.json\n",
            "Standardized 'source' field in 85_fox.json\n",
            "Standardized 'source' field in 21_hpo.json\n",
            "Standardized 'source' field in 32_fox.json\n",
            "Standardized 'source' field in 59_fox.json\n",
            "Standardized 'source' field in 9_fox.json\n",
            "Standardized 'source' field in 53_fox.json\n",
            "Standardized 'source' field in 57_hpo.json\n",
            "Standardized 'source' field in 62_nyt.json\n",
            "Standardized 'source' field in 90_hpo.json\n",
            "Standardized 'source' field in 7_hpo.json\n",
            "Standardized 'source' field in 7_nyt.json\n",
            "Standardized 'source' field in 88_fox.json\n",
            "Standardized 'source' field in 67_fox.json\n",
            "Standardized 'source' field in 56_hpo.json\n",
            "Standardized 'source' field in 68_hpo.json\n",
            "Standardized 'source' field in 14_nyt.json\n",
            "Standardized 'source' field in 82_fox.json\n",
            "Standardized 'source' field in 6_nyt.json\n",
            "Standardized 'source' field in 20_nyt.json\n",
            "Standardized 'source' field in 3_fox.json\n",
            "Standardized 'source' field in 56_nyt.json\n",
            "Standardized 'source' field in 74_hpo.json\n",
            "Standardized 'source' field in 36_nyt.json\n",
            "Standardized 'source' field in 63_hpo.json\n",
            "Standardized 'source' field in 89_fox.json\n",
            "Standardized 'source' field in 75_hpo.json\n",
            "Standardized 'source' field in 62_hpo.json\n",
            "Standardized 'source' field in 69_hpo.json\n",
            "Standardized 'source' field in 40_nyt.json\n",
            "Standardized 'source' field in 66_fox.json\n",
            "Standardized 'source' field in 91_hpo.json\n",
            "Standardized 'source' field in 83_fox.json\n",
            "Standardized 'source' field in 21_nyt.json\n",
            "Standardized 'source' field in 15_nyt.json\n",
            "Standardized 'source' field in 2_fox.json\n",
            "Standardized 'source' field in 20_hpo.json\n",
            "Standardized 'source' field in 37_nyt.json\n",
            "Standardized 'source' field in 10_fox.json\n",
            "Standardized 'source' field in 6_hpo.json\n",
            "Standardized 'source' field in 87_nyt.json\n",
            "Standardized 'source' field in 33_fox.json\n",
            "Standardized 'source' field in 41_nyt.json\n",
            "Standardized 'source' field in 8_fox.json\n",
            "Standardized 'source' field in 71_fox.json\n",
            "Standardized 'source' field in 37_hpo.json\n",
            "Standardized 'source' field in 91_nyt.json\n",
            "Standardized 'source' field in 94_fox.json\n",
            "Standardized 'source' field in 40_hpo.json\n",
            "Standardized 'source' field in 36_hpo.json\n",
            "Standardized 'source' field in 41_hpo.json\n",
            "Standardized 'source' field in 75_nyt.json\n",
            "Standardized 'source' field in 90_nyt.json\n",
            "Standardized 'source' field in 38_fox.json\n",
            "Standardized 'source' field in 42_hpo.json\n",
            "Standardized 'source' field in 95_nyt.json\n",
            "Standardized 'source' field in 96_fox.json\n",
            "Standardized 'source' field in 44_fox.json\n",
            "Standardized 'source' field in 95_hpo.json\n",
            "Standardized 'source' field in 74_nyt.json\n",
            "Standardized 'source' field in 65_fox.json\n",
            "Standardized 'source' field in 42_nyt.json\n",
            "Standardized 'source' field in 96_nyt.json\n",
            "Standardized 'source' field in 96_hpo.json\n",
            "Standardized 'source' field in 42_fox.json\n",
            "Standardized 'source' field in 65_hpo.json\n",
            "Standardized 'source' field in 95_fox.json\n",
            "Standardized 'source' field in 83_nyt.json\n",
            "Standardized 'source' field in 65_nyt.json\n",
            "Standardized 'source' field in 79_hpo.json\n",
            "Standardized 'source' field in 39_fox.json\n",
            "Standardized 'source' field in 79_fox.json\n",
            "Standardized 'source' field in 24_nyt.json\n",
            "Standardized 'source' field in 11_nyt.json\n",
            "Standardized 'source' field in 39_nyt.json\n",
            "Standardized 'source' field in 58_nyt.json\n",
            "Standardized 'source' field in 52_nyt.json\n",
            "Standardized 'source' field in 70_nyt.json\n",
            "Standardized 'source' field in 86_fox.json\n",
            "Standardized 'source' field in 45_nyt.json\n",
            "Standardized 'source' field in 63_fox.json\n",
            "Standardized 'source' field in 48_nyt.json\n",
            "Standardized 'source' field in 77_nyt.json\n",
            "Standardized 'source' field in 46_fox.json\n",
            "Standardized 'source' field in 47_nyt.json\n",
            "Standardized 'source' field in 24_fox.json\n",
            "Standardized 'source' field in 47_fox.json\n",
            "Standardized 'source' field in 26_fox.json\n",
            "Standardized 'source' field in 77_fox.json\n",
            "Standardized 'source' field in 48_fox.json\n",
            "Standardized 'source' field in 46_nyt.json\n",
            "Standardized 'source' field in 63_nyt.json\n",
            "Standardized 'source' field in 60_nyt.json\n",
            "Standardized 'source' field in 76_fox.json\n",
            "Standardized 'source' field in 60_fox.json\n",
            "Standardized 'source' field in 70_fox.json\n",
            "Standardized 'source' field in 11_fox.json\n",
            "Standardized 'source' field in 86_nyt.json\n",
            "Standardized 'source' field in 52_fox.json\n",
            "Standardized 'source' field in 26_nyt.json\n",
            "Standardized 'source' field in 45_fox.json\n",
            "Standardized 'source' field in 58_fox.json\n"
          ]
        }
      ]
    },
    {
      "cell_type": "code",
      "source": [
        "def analyze_source_distribution(articles):\n",
        "    \"\"\"\n",
        "    Analyzes and prints the distribution of articles across different sources.\n",
        "    \"\"\"\n",
        "    sources = [article.get('source', 'Unknown').lower() for article in articles]\n",
        "    source_distribution = Counter(sources)\n",
        "    print(\"\\nDistribution across sources:\")\n",
        "    for source, count in source_distribution.items():\n",
        "        print(f\"{source}: {count} articles\")"
      ],
      "metadata": {
        "id": "AJd6zWLyITPI"
      },
      "execution_count": null,
      "outputs": []
    },
    {
      "cell_type": "code",
      "source": [
        "analyze_source_distribution(articles)"
      ],
      "metadata": {
        "colab": {
          "base_uri": "https://localhost:8080/"
        },
        "id": "56Vcm6MqI5i-",
        "outputId": "a8c4becf-ef18-4b15-eb08-52278ffcbcab"
      },
      "execution_count": null,
      "outputs": [
        {
          "output_type": "stream",
          "name": "stdout",
          "text": [
            "\n",
            "Distribution across sources:\n",
            "hpo: 100 articles\n",
            "nyt: 100 articles\n",
            "fox: 100 articles\n"
          ]
        }
      ]
    },
    {
      "cell_type": "code",
      "source": [
        "metadata_fields = ['main-entities', 'main-event', 'title', 'url', 'word-count', 'date']"
      ],
      "metadata": {
        "id": "ilclalb9IqSu"
      },
      "execution_count": null,
      "outputs": []
    },
    {
      "cell_type": "code",
      "source": [
        "def check_missing_metadata(articles, metadata_fields):\n",
        "    \"\"\"\n",
        "    Checks and prints the number of articles missing each specified metadata field.\n",
        "    \"\"\"\n",
        "    missing_metadata = {field: 0 for field in metadata_fields}\n",
        "    for article in articles:\n",
        "        for field in metadata_fields:\n",
        "            if not article.get(field):\n",
        "                missing_metadata[field] += 1\n",
        "    print(\"\\nMissing metadata fields:\")\n",
        "    for field, count in missing_metadata.items():\n",
        "        print(f\"{field}: {count} articles missing this field\")"
      ],
      "metadata": {
        "id": "X5zbO7MZIYzN"
      },
      "execution_count": null,
      "outputs": []
    },
    {
      "cell_type": "code",
      "source": [
        "check_missing_metadata(articles, metadata_fields)"
      ],
      "metadata": {
        "colab": {
          "base_uri": "https://localhost:8080/"
        },
        "id": "p6SEHHO-I-7V",
        "outputId": "76899af4-c112-42a1-a9f7-74452faff141"
      },
      "execution_count": null,
      "outputs": [
        {
          "output_type": "stream",
          "name": "stdout",
          "text": [
            "\n",
            "Missing metadata fields:\n",
            "main-entities: 0 articles missing this field\n",
            "main-event: 0 articles missing this field\n",
            "title: 0 articles missing this field\n",
            "url: 0 articles missing this field\n",
            "word-count: 0 articles missing this field\n",
            "date: 0 articles missing this field\n"
          ]
        }
      ]
    },
    {
      "cell_type": "code",
      "source": [
        "def list_files_with_missing_fields(directory, fields):\n",
        "    \"\"\"\n",
        "    Lists files missing specified fields.\n",
        "    \"\"\"\n",
        "    missing_files = {field: [] for field in fields}\n",
        "    for filename in os.listdir(directory):\n",
        "        if filename.endswith('.json'):\n",
        "            filepath = os.path.join(directory, filename)\n",
        "            try:\n",
        "                with open(filepath, 'r', encoding='utf-8') as file:\n",
        "                    article = json.load(file)\n",
        "                    for field in fields:\n",
        "                        if not article.get(field):\n",
        "                            missing_files[field].append(filename)\n",
        "            except json.JSONDecodeError as e:\n",
        "                print(f\"Error decoding JSON from file {filename}: {e}\")\n",
        "    for field, files in missing_files.items():\n",
        "        print(f\"\\nFiles missing '{field}':\")\n",
        "        for file in files:\n",
        "            print(file)"
      ],
      "metadata": {
        "id": "i0wK5Ozr_Y9Y"
      },
      "execution_count": null,
      "outputs": []
    },
    {
      "cell_type": "code",
      "source": [
        "list_files_with_missing_fields(DATA_DIRECTORY, ['main-event', 'title'])"
      ],
      "metadata": {
        "colab": {
          "base_uri": "https://localhost:8080/"
        },
        "id": "8Vl1cj1tJHou",
        "outputId": "56d7b804-b5db-4d09-bf0f-3a2683a4bb2a"
      },
      "execution_count": null,
      "outputs": [
        {
          "output_type": "stream",
          "name": "stdout",
          "text": [
            "\n",
            "Files missing 'main-event':\n",
            "\n",
            "Files missing 'title':\n"
          ]
        }
      ]
    },
    {
      "cell_type": "code",
      "source": [
        "def update_json_files(directory, main_event_updates, title_updates):\n",
        "    \"\"\"\n",
        "    Updates JSON files with missing 'main-event' and 'title' fields based on provided mappings.\n",
        "    \"\"\"\n",
        "    for filename in os.listdir(directory):\n",
        "        if filename in main_event_updates or filename in title_updates:\n",
        "            filepath = os.path.join(directory, filename)\n",
        "            try:\n",
        "                with open(filepath, 'r+', encoding='utf-8') as file:\n",
        "                    data = json.load(file)\n",
        "                    if filename in main_event_updates:\n",
        "                        data['main-event'] = main_event_updates[filename]\n",
        "                    if filename in title_updates:\n",
        "                        data['title'] = title_updates[filename]\n",
        "                    file.seek(0)\n",
        "                    json.dump(data, file, indent=4)\n",
        "                    file.truncate()\n",
        "                    print(f\"Updated {filename}\")\n",
        "            except json.JSONDecodeError as e:\n",
        "                print(f\"Error decoding JSON from file {filename}: {e}\")"
      ],
      "metadata": {
        "id": "0ro_RxNFIbgC"
      },
      "execution_count": null,
      "outputs": []
    },
    {
      "cell_type": "code",
      "source": [
        "update_json_files(DATA_DIRECTORY, MAIN_EVENT_UPDATES, TITLE_UPDATES)"
      ],
      "metadata": {
        "colab": {
          "base_uri": "https://localhost:8080/"
        },
        "id": "fLxlwW3NJRZR",
        "outputId": "32afa2ba-a25f-46b0-9985-38968735c431"
      },
      "execution_count": null,
      "outputs": [
        {
          "output_type": "stream",
          "name": "stdout",
          "text": [
            "Updated 83_nyt.json\n",
            "Updated 79_hpo.json\n",
            "Updated 39_fox.json\n",
            "Updated 79_fox.json\n",
            "Updated 39_nyt.json\n"
          ]
        }
      ]
    },
    {
      "cell_type": "code",
      "source": [
        "def update_word_count_for_files(directory, filenames):\n",
        "    \"\"\"\n",
        "    Updates the 'word-count' field in specified JSON files based on the number of words in the 'body' field.\n",
        "\n",
        "    Parameters:\n",
        "    - directory (str): The path to the directory containing the JSON files.\n",
        "    - filenames (list): A list of filenames to update.\n",
        "    \"\"\"\n",
        "    for filename in filenames:\n",
        "        file_path = os.path.join(directory, filename)\n",
        "        if os.path.exists(file_path):\n",
        "            try:\n",
        "                with open(file_path, 'r+', encoding='utf-8') as file:\n",
        "                    data = json.load(file)\n",
        "                    if 'body' in data:\n",
        "                        # Calculate the total word count\n",
        "                        total_words = sum(\n",
        "                            len(paragraph.get('sentence', '').split())\n",
        "                            for paragraph in data['body']\n",
        "                        )\n",
        "                        # Update the 'word-count' field\n",
        "                        data['word-count'] = total_words\n",
        "                        # Write the updated data back to the file\n",
        "                        file.seek(0)\n",
        "                        json.dump(data, file, indent=4)\n",
        "                        file.truncate()\n",
        "                        print(f\"Updated 'word-count' in {filename}\")\n",
        "                    else:\n",
        "                        print(f\"'body' field missing in {filename}\")\n",
        "            except json.JSONDecodeError as e:\n",
        "                print(f\"Error decoding JSON from file {filename}: {e}\")\n",
        "        else:\n",
        "            print(f\"File {filename} does not exist in the directory.\")\n"
      ],
      "metadata": {
        "id": "SWCqsfAHF9I7"
      },
      "execution_count": null,
      "outputs": []
    },
    {
      "cell_type": "code",
      "source": [
        "# List of filenames missing 'word-count'\n",
        "missing_word_count_files = [\n",
        "    \"24_nyt.json\", \"63_fox.json\", \"58_nyt.json\", \"52_nyt.json\", \"86_fox.json\",\n",
        "    \"11_nyt.json\", \"45_nyt.json\", \"77_nyt.json\", \"48_nyt.json\", \"70_nyt.json\",\n",
        "    \"46_fox.json\", \"60_nyt.json\", \"26_fox.json\", \"47_fox.json\", \"48_fox.json\",\n",
        "    \"47_nyt.json\", \"77_fox.json\", \"46_nyt.json\", \"76_fox.json\", \"24_fox.json\",\n",
        "    \"60_fox.json\", \"26_nyt.json\", \"52_fox.json\", \"86_nyt.json\", \"63_nyt.json\",\n",
        "    \"11_fox.json\", \"58_fox.json\", \"70_fox.json\", \"45_fox.json\"\n",
        "]\n",
        "\n",
        "# Update the 'word-count' field in the specified JSON files\n",
        "update_word_count_for_files(DATA_DIRECTORY, missing_word_count_files)"
      ],
      "metadata": {
        "colab": {
          "base_uri": "https://localhost:8080/"
        },
        "id": "pEwm8JbeGAP2",
        "outputId": "71b30c5e-a4b4-4458-89bb-defeb0bd41a7"
      },
      "execution_count": null,
      "outputs": [
        {
          "output_type": "stream",
          "name": "stdout",
          "text": [
            "Updated 'word-count' in 24_nyt.json\n",
            "Updated 'word-count' in 63_fox.json\n",
            "Updated 'word-count' in 58_nyt.json\n",
            "Updated 'word-count' in 52_nyt.json\n",
            "Updated 'word-count' in 86_fox.json\n",
            "Updated 'word-count' in 11_nyt.json\n",
            "Updated 'word-count' in 45_nyt.json\n",
            "Updated 'word-count' in 77_nyt.json\n",
            "Updated 'word-count' in 48_nyt.json\n",
            "Updated 'word-count' in 70_nyt.json\n",
            "Updated 'word-count' in 46_fox.json\n",
            "Updated 'word-count' in 60_nyt.json\n",
            "Updated 'word-count' in 26_fox.json\n",
            "Updated 'word-count' in 47_fox.json\n",
            "Updated 'word-count' in 48_fox.json\n",
            "Updated 'word-count' in 47_nyt.json\n",
            "Updated 'word-count' in 77_fox.json\n",
            "Updated 'word-count' in 46_nyt.json\n",
            "Updated 'word-count' in 76_fox.json\n",
            "Updated 'word-count' in 24_fox.json\n",
            "Updated 'word-count' in 60_fox.json\n",
            "Updated 'word-count' in 26_nyt.json\n",
            "Updated 'word-count' in 52_fox.json\n",
            "Updated 'word-count' in 86_nyt.json\n",
            "Updated 'word-count' in 63_nyt.json\n",
            "Updated 'word-count' in 11_fox.json\n",
            "Updated 'word-count' in 58_fox.json\n",
            "Updated 'word-count' in 70_fox.json\n",
            "Updated 'word-count' in 45_fox.json\n"
          ]
        }
      ]
    },
    {
      "cell_type": "code",
      "source": [
        "list_files_with_missing_fields(DATA_DIRECTORY, ['word-count'])"
      ],
      "metadata": {
        "colab": {
          "base_uri": "https://localhost:8080/"
        },
        "id": "eEYfP2sPGC01",
        "outputId": "35ae12ff-4e91-4954-aa61-a2a3f91cfd19"
      },
      "execution_count": null,
      "outputs": [
        {
          "output_type": "stream",
          "name": "stdout",
          "text": [
            "\n",
            "Files missing 'word-count':\n"
          ]
        }
      ]
    },
    {
      "cell_type": "markdown",
      "source": [
        "# Analyze Political Stance and Bias Types\n",
        "\n",
        "Examine the distribution of political stances and bias types within the dataset to identify any class imbalances."
      ],
      "metadata": {
        "id": "nFYyeScpU693"
      }
    },
    {
      "cell_type": "code",
      "source": [
        "# Initialize a counter for political stances\n",
        "stance_counter = Counter()\n",
        "\n",
        "# Iterate over the articles to count political stances\n",
        "for article in articles:\n",
        "    if 'article-level-annotations' in article and 'stance' in article['article-level-annotations']:\n",
        "        stance = article['article-level-annotations']['stance']\n",
        "        stance_counter[stance] += 1\n",
        "    else:\n",
        "        print(f\"Article missing 'stance' field: {article.get('title', 'No Title')}\")\n",
        "\n",
        "# Display the distribution of political stances\n",
        "print(\"\\nDistribution of Political Stances:\")\n",
        "for stance, count in stance_counter.items():\n",
        "    print(f\"{stance}: {count} articles\")\n"
      ],
      "metadata": {
        "colab": {
          "base_uri": "https://localhost:8080/"
        },
        "id": "WQvUUlm9GKhA",
        "outputId": "098032a9-8192-40d8-8893-77faa3cd17cd"
      },
      "execution_count": null,
      "outputs": [
        {
          "output_type": "stream",
          "name": "stdout",
          "text": [
            "\n",
            "Distribution of Political Stances:\n",
            "Left: 81 articles\n",
            "Right: 75 articles\n",
            "Center: 144 articles\n"
          ]
        }
      ]
    },
    {
      "cell_type": "code",
      "source": [
        "# List to store filenames of articles with sentence annotations missing 'bias'\n",
        "files_missing_bias_in_annotations = []\n",
        "\n",
        "# Iterate over each article to check for missing 'bias' in sentence annotations\n",
        "for article in articles:\n",
        "    filename = article.get('filename', 'Unknown Filename')\n",
        "    body = article.get('body', [])\n",
        "    for sentence in body:\n",
        "        annotations = sentence.get('annotations', [])\n",
        "        for annotation in annotations:\n",
        "            if 'bias' not in annotation or not annotation['bias']:\n",
        "                files_missing_bias_in_annotations.append(filename)\n",
        "                break  # No need to check further annotations in this article\n",
        "        else:\n",
        "            continue\n",
        "        break\n",
        "\n",
        "# Display the filenames of articles with sentence annotations missing 'bias'\n",
        "print(\"\\nArticles with Sentence Annotations Missing 'bias':\")\n",
        "for file in files_missing_bias_in_annotations:\n",
        "    print(file)\n",
        "# Initialize a counter for bias types\n",
        "bias_type_counter = Counter()\n",
        "\n",
        "# Iterate over the articles to count bias types\n",
        "for article in articles:\n",
        "    if 'body' in article:\n",
        "        for sentence in article['body']:\n",
        "            if 'annotations' in sentence:\n",
        "                for annotation in sentence['annotations']:\n",
        "                    bias_type = annotation.get('bias')\n",
        "                    if bias_type:\n",
        "                        bias_type_counter[bias_type] += 1\n",
        "                    else:\n",
        "                        print(f\"Annotation missing 'bias' field in article: {article.get('title', 'No Title')}\")\n",
        "    else:\n",
        "        print(f\"Article missing 'body' field: {article.get('title', 'No Title')}\")\n",
        "\n",
        "# Display the distribution of bias types\n",
        "print(\"\\nDistribution of Bias Types:\")\n",
        "for bias_type, count in bias_type_counter.items():\n",
        "    print(f\"{bias_type}: {count} instances\")\n"
      ],
      "metadata": {
        "colab": {
          "base_uri": "https://localhost:8080/"
        },
        "id": "CBp2MIMfGPqf",
        "outputId": "33cd42a2-e5a3-4835-e2d3-d0ab1e915c3d"
      },
      "execution_count": null,
      "outputs": [
        {
          "output_type": "stream",
          "name": "stdout",
          "text": [
            "\n",
            "Articles with Sentence Annotations Missing 'bias':\n",
            "\n",
            "Distribution of Bias Types:\n",
            "Informational: 1249 instances\n",
            "Lexical: 478 instances\n"
          ]
        }
      ]
    },
    {
      "cell_type": "code",
      "source": [
        "import matplotlib.pyplot as plt\n",
        "\n",
        "# Plot distribution of political stances\n",
        "stances = list(stance_counter.keys())\n",
        "counts = list(stance_counter.values())\n",
        "\n",
        "plt.figure(figsize=(10, 5))\n",
        "plt.bar(stances, counts, color='skyblue')\n",
        "plt.xlabel('Political Stance')\n",
        "plt.ylabel('Number of Articles')\n",
        "plt.title('Distribution of Political Stances in BASIL Dataset')\n",
        "plt.show()\n",
        "\n",
        "# Plot distribution of bias types\n",
        "bias_types = list(bias_type_counter.keys())\n",
        "bias_counts = list(bias_type_counter.values())\n",
        "\n",
        "plt.figure(figsize=(10, 5))\n",
        "plt.bar(bias_types, bias_counts, color='salmon')\n",
        "plt.xlabel('Bias Type')\n",
        "plt.ylabel('Number of Instances')\n",
        "plt.title('Distribution of Bias Types in BASIL Dataset')\n",
        "plt.show()\n"
      ],
      "metadata": {
        "colab": {
          "base_uri": "https://localhost:8080/",
          "height": 957
        },
        "id": "IM3l3Z9aV3bS",
        "outputId": "feb210ea-a8ac-4027-e0ad-04a4a44e8750"
      },
      "execution_count": null,
      "outputs": [
        {
          "output_type": "display_data",
          "data": {
            "text/plain": [
              "<Figure size 1000x500 with 1 Axes>"
            ],
            "image/png": "[encoded data removed]"
          },
          "metadata": {}
        },
        {
          "output_type": "display_data",
          "data": {
            "text/plain": [
              "<Figure size 1000x500 with 1 Axes>"
            ],
            "image/png": "[encoded data removed]"
          },
          "metadata": {}
        }
      ]
    },
    {
      "cell_type": "code",
      "source": [
        "# Initialize counters and lists for analysis\n",
        "total_sentences = 0\n",
        "sentences_without_annotations = 0\n",
        "files_missing_bias_in_annotations = []\n",
        "\n",
        "# Iterate over each article\n",
        "for article in articles:\n",
        "    filename = article.get('filename', 'Unknown Filename')\n",
        "    body = article.get('body', [])\n",
        "    for sentence in body:\n",
        "        total_sentences += 1  # Increment the total sentence count\n",
        "        annotations = sentence.get('annotations', [])\n",
        "        if not annotations:\n",
        "            sentences_without_annotations += 1  # Increment if no annotations exist\n",
        "        for annotation in annotations:\n",
        "            if 'bias' not in annotation or not annotation['bias']:\n",
        "                files_missing_bias_in_annotations.append(filename)\n",
        "                break  # No need to check further annotations in this article\n",
        "        else:\n",
        "            continue\n",
        "        break\n",
        "\n",
        "# Display the results\n",
        "print(f\"\\nTotal number of sentences: {total_sentences}\")\n",
        "print(f\"Number of sentences without annotations: {sentences_without_annotations}\")\n",
        "print(f\"Percentage of sentences without annotations: {(sentences_without_annotations / total_sentences) * 100:.2f}%\")\n",
        "\n",
        "# Display the filenames of articles with sentence annotations missing 'bias'\n",
        "print(\"\\nArticles with Sentence Annotations Missing 'bias':\")\n",
        "for file in set(files_missing_bias_in_annotations):  # Use set to avoid duplicates\n",
        "    print(file)\n"
      ],
      "metadata": {
        "id": "ZKdTe-odV6kp",
        "colab": {
          "base_uri": "https://localhost:8080/"
        },
        "outputId": "d8daf29c-65b5-4e22-e1f9-84a9a294b115"
      },
      "execution_count": null,
      "outputs": [
        {
          "output_type": "stream",
          "name": "stdout",
          "text": [
            "\n",
            "Total number of sentences: 7984\n",
            "Number of sentences without annotations: 6359\n",
            "Percentage of sentences without annotations: 79.65%\n",
            "\n",
            "Articles with Sentence Annotations Missing 'bias':\n"
          ]
        }
      ]
    },
    {
      "cell_type": "markdown",
      "source": [
        "# Text Pre processing"
      ],
      "metadata": {
        "id": "DhYoGAgH-rVs"
      }
    },
    {
      "cell_type": "code",
      "source": [
        "import re\n",
        "\n",
        "def normalize_text(text):\n",
        "    \"\"\"\n",
        "    Normalize text by:\n",
        "    - Converting to lowercase.\n",
        "    - Removing extra whitespace.\n",
        "    - Decoding escaped characters.\n",
        "    - Handling special characters.\n",
        "    \"\"\"\n",
        "    # Convert to lowercase\n",
        "    text = text.lower()\n",
        "    # Decode escaped characters like \\u2019 to ’\n",
        "    text = text.encode('utf-8').decode('unicode_escape')\n",
        "    # Remove special characters except for basic punctuation\n",
        "    text = re.sub(r'[^a-z0-9\\s.,!?\\'\\\"]+', '', text)\n",
        "    # Normalize whitespace\n",
        "    text = re.sub(r'\\s+', ' ', text).strip()\n",
        "    return text\n",
        "\n",
        "def preprocess_body_text(article_body):\n",
        "    \"\"\"\n",
        "    Applies text normalization to all sentences in the 'body' field of an article.\n",
        "    \"\"\"\n",
        "    for sentence in article_body:\n",
        "        if 'sentence' in sentence:\n",
        "            sentence['sentence'] = normalize_text(sentence['sentence'])\n",
        "\n",
        "# Apply the preprocessing to all articles\n",
        "for article in articles:\n",
        "    if 'body' in article:\n",
        "        preprocess_body_text(article['body'])\n",
        "    else:\n",
        "        print(f\"Article missing 'body' field: {article.get('title', 'No Title')}\")\n",
        "\n",
        "# Display a sample of processed sentences to verify\n",
        "sample_size = 5\n",
        "print(\"\\nSample of normalized sentences:\")\n",
        "for article in articles[:sample_size]:\n",
        "    print(f\"Article: {article.get('title', 'No Title')}\")\n",
        "    if 'body' in article:\n",
        "        for sentence in article['body'][:sample_size]:\n",
        "            print(f\"Normalized Sentence: {sentence.get('sentence', 'No sentence')}\")\n",
        "    else:\n",
        "        print(\"No body found in article.\")\n"
      ],
      "metadata": {
        "colab": {
          "base_uri": "https://localhost:8080/"
        },
        "id": "OfDJ4dVYubif",
        "outputId": "7c297dc6-a570-42a1-818f-25e912aa8673"
      },
      "execution_count": null,
      "outputs": [
        {
          "output_type": "stream",
          "name": "stdout",
          "text": [
            "\n",
            "Sample of normalized sentences:\n",
            "Article: John McCain, Top Democrats Call On Trump To Cancel Putin Meeting\n",
            "Normalized Sentence: sen. john mccain rariz., senate minority leader chuck schumer dn.y. and 18 members of the house foreign affairs committee called on president donald trump to cancel his meeting with russian president vladimir putin after indictments were announced friday accusing a dozen kremlin intelligence officers of hacking democratic party emails during the 2016 presidential campaign.\n",
            "Normalized Sentence: but a senior administration source told nbc on friday that there was zero chance the controversial private meeting between the two men would be canceled.\n",
            "Normalized Sentence: mccain tweeted that if trump is not prepared to hold putin accountable, the talks in helsinki on monday should not move forward.\n",
            "Normalized Sentence: he said the indictments are evidence of an extensive plot by putins government to attack the 2016 election, sow chaos and dissension among the american electorate, and undermine faith in our democracy.\n",
            "Normalized Sentence: schumer said in a statement that gladhanding with vladimir putin on the heels of these indictments would be an insult to our democracy.\n",
            "Article: Marco Rubio Lays Out Hawkish Foreign Policy Doctrine Invoking Kennedy\n",
            "Normalized Sentence: new york u.s. sen. marco rubio rfla. set forth a foreign policy vision wednesday that invoked president john f. kennedy in an assertive call to project american power abroad.\n",
            "Normalized Sentence: in comments delivered at the council on foreign relations, the conservative senator vying for the gop presidential nomination said the world would be safer if the u.s. military had a bigger budget and america asserted itself more aggressively across the globe.\n",
            "Normalized Sentence: while the threats facing the united states have changed in the 21st century, america's global influence remains a benevolent force, rubio said.\n",
            "Normalized Sentence: \"president kennedy, like most presidents before and since, understood what i believe our current president does not that american strength is a means of preventing war, not promoting it, rubio said.\n",
            "Normalized Sentence: and that weakness, on the other hand, is the friend of danger and the enemy of peace.\"\n",
            "Article: Mike Huckabee on the Issues\n",
            "Normalized Sentence: mike huckabee, a former republican governor of arkansas and preacher who has announced his run for the presidency on tuesday, has been outspoken on a range of matters, particularly foreign policy and social issues like samesex marriage.\n",
            "Normalized Sentence: here are his stances on important issues.\n",
            "Normalized Sentence: mr. huckabee warns that radical islam is a grave threat to the united states and says president obama too frequently defends islam.\n",
            "Normalized Sentence: he supports forceful military action against the islamic state.\n",
            "Normalized Sentence: a strong defender of israel, he has been sharply critical of mr. obamas treatment of prime minister benjamin netanyahu, and said a proposed nuclear deal with iran is terrible because iran cannot be trusted.\n",
            "Article: Trump Caves To Democrats, Agrees To Reopen Government Short-Term Without Border Wall\n",
            "Normalized Sentence: president donald trump announced friday a shortterm plan that will reopen the government for three weeks so that border security negotiations may continue without the devastating effects of the partial government shutdown.\n",
            "Normalized Sentence: trump said hes prepared to sign a bill to open the government through feb. 15.\n",
            "Normalized Sentence: federal employees will get back pay very quickly or as soon as possible, he said.\n",
            "Normalized Sentence: shortly after the announcement, the senate and house both passed a resolution to reopen the government through that date.\n",
            "Normalized Sentence: the announcement comes on the 35th day of the longest shutdown in united states history and is a clear cave by trump, whose impasse over the budget stems from his demands for 5.7 billion in funds for his longpromised wall along the u.s.mexico border a project democratic lawmakers say is a firm dealbreaker.\n",
            "Article: Schumer bashed by the left over shutdown-ending deal\n",
            "Normalized Sentence: schumer bashed by the left over shutdownending deal\n",
            "Normalized Sentence: senate democratic leader chuck schumer is taking heat from some of the most influential and deeppocketed groups in the liberal base for caving to republicans in the shutdown standoff.\n",
            "Normalized Sentence: todays cave by most senate democrats was a stunning display of moral and political cowardice,\" said democracy for america, just one of several such groups bashing schumer for the standdown on monday.\n",
            "Normalized Sentence: most senate democrats, including democratic leader chuck schumer, voted to allow donald trump to continue to subject an evergrowing number of dreamers to lives threatened by deportation from the only home theyve ever known.\n",
            "Normalized Sentence: schumer and fellow senate democrats forced the shutdown over the weekend after insisting that any temporary spending bill to keep the government fully operational include permanent protections for the socalled dreamers immigrants brought illegally to the united states as children.\n"
          ]
        }
      ]
    },
    {
      "cell_type": "code",
      "source": [
        "def check_annotation_consistency(articles):\n",
        "    \"\"\"\n",
        "    Check for missing or inconsistent fields in sentence annotations.\n",
        "    \"\"\"\n",
        "    # Required fields in annotations\n",
        "    required_annotation_fields = ['bias', 'polarity', 'target']\n",
        "    missing_annotations_count = {field: 0 for field in required_annotation_fields}\n",
        "    inconsistent_values = {'bias': set(), 'polarity': set(), 'target': set()}\n",
        "\n",
        "    # Iterate through articles\n",
        "    for article in articles:\n",
        "        if 'body' in article:\n",
        "            for sentence in article['body']:\n",
        "                annotations = sentence.get('annotations', [])\n",
        "                for annotation in annotations:\n",
        "                    # Check for missing fields\n",
        "                    for field in required_annotation_fields:\n",
        "                        if field not in annotation or not annotation[field]:\n",
        "                            missing_annotations_count[field] += 1\n",
        "                        else:\n",
        "                            # Collect values for consistency check\n",
        "                            inconsistent_values[field].add(annotation[field])\n",
        "\n",
        "    # Display results\n",
        "    print(\"\\nMissing fields in annotations:\")\n",
        "    for field, count in missing_annotations_count.items():\n",
        "        print(f\"{field}: {count} missing\")\n",
        "\n",
        "    print(\"\\nInconsistent values in annotations:\")\n",
        "    for field, values in inconsistent_values.items():\n",
        "        print(f\"{field}: {values}\")\n",
        "\n",
        "\n",
        "def check_metadata_consistency_corrected(articles, metadata_fields):\n",
        "    \"\"\"\n",
        "    Check for missing or inconsistent metadata fields in articles.\n",
        "    \"\"\"\n",
        "    missing_metadata_count = {field: 0 for field in metadata_fields}\n",
        "\n",
        "    # Iterate through articles\n",
        "    for article in articles:\n",
        "        for field in metadata_fields:\n",
        "            if field == 'stance':\n",
        "                # Check within 'article-level-annotations'\n",
        "                if 'article-level-annotations' not in article or field not in article['article-level-annotations']:\n",
        "                    missing_metadata_count[field] += 1\n",
        "            else:\n",
        "                if field not in article or not article[field]:\n",
        "                    missing_metadata_count[field] += 1\n",
        "\n",
        "    # Display results\n",
        "    print(\"\\nMissing metadata fields:\")\n",
        "    for field, count in missing_metadata_count.items():\n",
        "        print(f\"{field}: {count} missing\")\n",
        "\n",
        "\n",
        "\n",
        "# Check for annotation consistency\n",
        "check_annotation_consistency(articles)\n",
        "\n",
        "# Check for metadata consistency\n",
        "metadata_fields = ['source', 'main-event', 'stance']\n",
        "check_metadata_consistency_corrected(articles, metadata_fields)\n"
      ],
      "metadata": {
        "colab": {
          "base_uri": "https://localhost:8080/"
        },
        "id": "Jh8YpKRV6-4W",
        "outputId": "04f80083-f434-4cb3-a5a7-237af427aa61"
      },
      "execution_count": null,
      "outputs": [
        {
          "output_type": "stream",
          "name": "stdout",
          "text": [
            "\n",
            "Missing fields in annotations:\n",
            "bias: 0 missing\n",
            "polarity: 0 missing\n",
            "target: 0 missing\n",
            "\n",
            "Inconsistent values in annotations:\n",
            "bias: {'Lexical', 'Informational'}\n",
            "polarity: {'Negative', 'Positive'}\n",
            "target: {'Ted Cruz', 'National Enquirer', 'Benjamin Netanyahu', 'Walmart', 'Vicente Fox', 'Internal Revenue Service', 'NAACP', 'police', 'Michael Bloomberg', 'Ruth Bader Ginsburg', 'Duncan Hunter', 'Democrats presidential candidates', 'Raul Labrador', 'Michael Steele', 'Cesar Sayoc', 'Richard Blumenthal', 'AARP', 'Michael Morell', 'Religious Freedom Restoration Act', 'Victoria Nuland', 'Democratic Lawmakers', 'Democratic lawmakers', 'lawmakers', 'Sasha and Malia Obama', 'social media companies', 'Newsweek', 'Lois Lerner', 'National Rifle Association', 'social security', 'Senate Democrats', 'Duncan and Margaret Hunter', 'internet companies', 'Rashida Tlaib', 'Peter Strzok', 'Susan Rice', 'Chris Christie', 'WikiLeaks', 'Justice Department', 'GOP committee members', 'Nebraska officials', 'State Department officials', 'Michael Grimm', 'Chick-Fil-A', 'BuzzFeed', 'Bruce Braley', 'protestors', 'Mike Pence', 'Secure America Now', 'Kathy Griffin', 'fiscal conservatives', 'Eric Cantor', 'Republican Lawmakers', 'Bob Etheridge', 'Obama campaign', 'Roger Stone', 'Nebraska and Oklahoma officials', 'Michael Cohen', 'Lois lerner', 'House Democrats', 'Bernie Sanders', 'Joe Biden', 'Steve Scalise', 'Barack Obama', 'Romney campaign', 'joint tax rule for homosexual couples', 'Adam Schiff', 'Mike Huckabee', 'plaintiffs', 'Nancy Pelosi', 'William Cowan', 'Mary Cheney', 'Trump', 'Tea Party', 'Glenn Beck', 'Kevil McCarthy', 'Elizabeth Lauten', 'Chuck Grassley', 'Michael Flynn', 'William Barr', 'SB 1062 bill', 'Rick Perry', 'senate Democrats', \"Obama's administration\", 'Joe Arpaio', 'Mitt Romney', 'birthright citizenship', 'Eric Holder', 'House Republicans', 'National Security Agency programs', 'Asa Hutchinson', 'Jesse Jackson', 'Chuck Schumer', 'Anthony Weiner', 'Harry Reid', 'Catholics', 'U.S. Congress', 'Joe Lieberman', 'John Boehner', 'State Department', 'Democractic lawmakers', 'Stephen Fincher', 'Todd Akin', 'Enrique Pena Nieto', 'Hillary Clinton', 'Alabama Republicans', 'Neil Gorsuch', 'Deval Patrick', 'Paul Ryan', 'Senate Republicans', 'Blake Farenthold', 'David Brat', 'George W. Bush', 'Alexandria Ocasio-Cortez', 'Republicans', 'Larry Summers', 'Donald Trump Jr.', 'Paul LePage', 'Jeb Bush', 'Colorado officials', 'Marco Rubio', 'Liz Cheney', 'James Mattis', 'protesters', 'Michele Bachmann', 'supreme court', 'Seth Hutchinson', 'Roy Moore', 'Democrats', 'Republican lawmakers', 'Donald Trump', 'Obama administration', 'Robert Mueller', 'Jan Brewer', 'Rick Santorum'}\n",
            "\n",
            "Missing metadata fields:\n",
            "source: 0 missing\n",
            "main-event: 0 missing\n",
            "stance: 0 missing\n"
          ]
        }
      ]
    },
    {
      "cell_type": "markdown",
      "source": [
        "Missing Fields:\n",
        "No missing values for bias, polarity, or target, which indicates that all annotations are complete.\n",
        "Inconsistent Values:\n",
        "The bias and polarity fields have consistent values (Informational, Lexical for bias, and Positive, Negative for polarity).\n",
        "The target field contains a wide range of entities, which is expected since it refers to the target of the bias in each sentence. These values appear contextually valid."
      ],
      "metadata": {
        "id": "j9GTXDieCqu0"
      }
    },
    {
      "cell_type": "markdown",
      "source": [],
      "metadata": {
        "id": "yWQsQ2ETsdbZ"
      }
    },
    {
      "cell_type": "markdown",
      "source": [],
      "metadata": {
        "id": "otx5kRdksnUy"
      }
    },
    {
      "cell_type": "markdown",
      "source": [
        "# Document level data preparation\n",
        "\n"
      ],
      "metadata": {
        "id": "BuB1jJtM2fAQ"
      }
    },
    {
      "cell_type": "code",
      "source": [
        "def prepare_document_level_data(articles):\n",
        "    \"\"\"\n",
        "    Prepare data for document-level classification.\n",
        "    Combines all sentences in an article into a single text and uses the stance as the label.\n",
        "    \"\"\"\n",
        "    doc_data = []\n",
        "    for article in articles:\n",
        "        if 'article-level-annotations' in article:\n",
        "            stance = article['article-level-annotations'].get('stance')\n",
        "            if stance:\n",
        "                body_text = \" \".join(\n",
        "                    [sentence['sentence'] for sentence in article.get('body', []) if 'sentence' in sentence]\n",
        "                )\n",
        "                doc_data.append({'text': body_text, 'stance': stance})\n",
        "    return doc_data\n",
        "\n",
        "# Prepare data\n",
        "document_level_data = prepare_document_level_data(articles)\n",
        "\n",
        "# Display sample\n",
        "print(\"\\nSample Document-Level Data:\")\n",
        "for sample in document_level_data[:3]:\n",
        "    print(f\"Text: {sample['text'][:100]}...\")  # Truncated for display\n",
        "    print(f\"Stance: {sample['stance']}\")\n"
      ],
      "metadata": {
        "colab": {
          "base_uri": "https://localhost:8080/"
        },
        "id": "tZusElEM2erN",
        "outputId": "b91eb330-709a-42b7-90e6-5445116da802"
      },
      "execution_count": null,
      "outputs": [
        {
          "output_type": "stream",
          "name": "stdout",
          "text": [
            "\n",
            "Sample Document-Level Data:\n",
            "Text: sen. john mccain rariz., senate minority leader chuck schumer dn.y. and 18 members of the house fore...\n",
            "Stance: Left\n",
            "Text: new york u.s. sen. marco rubio rfla. set forth a foreign policy vision wednesday that invoked presid...\n",
            "Stance: Left\n",
            "Text: mike huckabee, a former republican governor of arkansas and preacher who has announced his run for t...\n",
            "Stance: Left\n"
          ]
        }
      ]
    },
    {
      "cell_type": "code",
      "source": [
        "def prepare_sentence_level_data(articles):\n",
        "    \"\"\"\n",
        "    Prepare data for sentence-level bias detection.\n",
        "    Each sentence is labeled with its bias type and polarity.\n",
        "    \"\"\"\n",
        "    sentence_data = []\n",
        "    for article in articles:\n",
        "        for sentence in article.get('body', []):\n",
        "            if 'annotations' in sentence and sentence['annotations']:\n",
        "                for annotation in sentence['annotations']:\n",
        "                    sentence_data.append({\n",
        "                        'sentence': sentence['sentence'],\n",
        "                        'bias': annotation.get('bias', 'No Bias'),\n",
        "                        'polarity': annotation.get('polarity', 'Neutral')\n",
        "                    })\n",
        "            else:\n",
        "                sentence_data.append({\n",
        "                    'sentence': sentence['sentence'],\n",
        "                    'bias': 'No Bias',\n",
        "                    'polarity': 'Neutral'\n",
        "                })\n",
        "    return sentence_data\n",
        "\n",
        "# Prepare data\n",
        "sentence_level_data = prepare_sentence_level_data(articles)\n",
        "\n",
        "# Display sample\n",
        "print(\"\\nSample Sentence-Level Data:\")\n",
        "for sample in sentence_level_data[:5]:\n",
        "    print(f\"Sentence: {sample['sentence']}\")\n",
        "    print(f\"Bias: {sample['bias']}, Polarity: {sample['polarity']}\")\n"
      ],
      "metadata": {
        "colab": {
          "base_uri": "https://localhost:8080/"
        },
        "id": "7gjRf-DK7Bvx",
        "outputId": "c35e5838-c199-4876-b1dd-f4feb34a6b55"
      },
      "execution_count": null,
      "outputs": [
        {
          "output_type": "stream",
          "name": "stdout",
          "text": [
            "\n",
            "Sample Sentence-Level Data:\n",
            "Sentence: sen. john mccain rariz., senate minority leader chuck schumer dn.y. and 18 members of the house foreign affairs committee called on president donald trump to cancel his meeting with russian president vladimir putin after indictments were announced friday accusing a dozen kremlin intelligence officers of hacking democratic party emails during the 2016 presidential campaign.\n",
            "Bias: No Bias, Polarity: Neutral\n",
            "Sentence: but a senior administration source told nbc on friday that there was zero chance the controversial private meeting between the two men would be canceled.\n",
            "Bias: No Bias, Polarity: Neutral\n",
            "Sentence: mccain tweeted that if trump is not prepared to hold putin accountable, the talks in helsinki on monday should not move forward.\n",
            "Bias: No Bias, Polarity: Neutral\n",
            "Sentence: he said the indictments are evidence of an extensive plot by putins government to attack the 2016 election, sow chaos and dissension among the american electorate, and undermine faith in our democracy.\n",
            "Bias: No Bias, Polarity: Neutral\n",
            "Sentence: schumer said in a statement that gladhanding with vladimir putin on the heels of these indictments would be an insult to our democracy.\n",
            "Bias: No Bias, Polarity: Neutral\n"
          ]
        }
      ]
    },
    {
      "cell_type": "code",
      "source": [
        "from sklearn.model_selection import train_test_split\n",
        "\n",
        "def split_data(data, label_column, test_size=0.2, random_state=42):\n",
        "    \"\"\"\n",
        "    Splits data into training and test sets based on the label column.\n",
        "    \"\"\"\n",
        "    texts = [item['text'] if 'text' in item else item['sentence'] for item in data]\n",
        "    labels = [item[label_column] for item in data]\n",
        "    return train_test_split(texts, labels, test_size=test_size, random_state=random_state)\n",
        "\n",
        "# Split document-level data\n",
        "doc_train_texts, doc_test_texts, doc_train_labels, doc_test_labels = split_data(document_level_data, 'stance')\n",
        "\n",
        "# Split sentence-level data\n",
        "sent_train_texts, sent_test_texts, sent_train_labels, sent_test_labels = split_data(sentence_level_data, 'bias')\n",
        "\n",
        "# Display data splits\n",
        "print(\"\\nDocument-Level Data:\")\n",
        "print(f\"Training size: {len(doc_train_texts)}, Test size: {len(doc_test_texts)}\")\n",
        "print(\"\\nSentence-Level Data:\")\n",
        "print(f\"Training size: {len(sent_train_texts)}, Test size: {len(sent_test_texts)}\")\n"
      ],
      "metadata": {
        "colab": {
          "base_uri": "https://localhost:8080/"
        },
        "id": "5Zb8hIypspbr",
        "outputId": "f3ee7830-e745-4b18-e5b5-b14e5b7b02c9"
      },
      "execution_count": null,
      "outputs": [
        {
          "output_type": "stream",
          "name": "stdout",
          "text": [
            "\n",
            "Document-Level Data:\n",
            "Training size: 240, Test size: 60\n",
            "\n",
            "Sentence-Level Data:\n",
            "Training size: 6468, Test size: 1618\n"
          ]
        }
      ]
    },
    {
      "cell_type": "code",
      "source": [
        "import torch\n",
        "from transformers import BertTokenizer, BertForSequenceClassification\n",
        "from torch.utils.data import Dataset, DataLoader\n",
        "from sklearn.preprocessing import LabelEncoder\n",
        "from sklearn.metrics import classification_report\n"
      ],
      "metadata": {
        "id": "9uN6ADkjDlNo"
      },
      "execution_count": null,
      "outputs": []
    },
    {
      "cell_type": "code",
      "source": [
        "# Initialize label encoder\n",
        "label_encoder = LabelEncoder()\n",
        "\n",
        "# Fit label encoder and transform labels\n",
        "doc_train_labels_encoded = label_encoder.fit_transform(doc_train_labels)\n",
        "doc_test_labels_encoded = label_encoder.transform(doc_test_labels)\n",
        "\n",
        "# Get the number of classes\n",
        "num_labels = len(label_encoder.classes_)\n",
        "print(f\"Classes: {label_encoder.classes_}\")\n"
      ],
      "metadata": {
        "colab": {
          "base_uri": "https://localhost:8080/"
        },
        "id": "7o0kGx__Dlvg",
        "outputId": "75778434-2594-405f-ec05-ab176443c996"
      },
      "execution_count": null,
      "outputs": [
        {
          "output_type": "stream",
          "name": "stdout",
          "text": [
            "Classes: ['Center' 'Left' 'Right']\n"
          ]
        }
      ]
    },
    {
      "cell_type": "code",
      "source": [
        "class ArticleDataset(Dataset):\n",
        "    def __init__(self, texts, labels, tokenizer, max_len):\n",
        "        self.texts = texts\n",
        "        self.labels = labels  # These should already be encoded\n",
        "        self.tokenizer = tokenizer\n",
        "        self.max_len = max_len\n",
        "\n",
        "    def __len__(self):\n",
        "        return len(self.texts)\n",
        "\n",
        "    def __getitem__(self, idx):\n",
        "        text = str(self.texts[idx])\n",
        "        label = self.labels[idx]\n",
        "\n",
        "        encoding = self.tokenizer.encode_plus(\n",
        "            text,\n",
        "            add_special_tokens=True,\n",
        "            max_length=self.max_len,\n",
        "            truncation=True,\n",
        "            padding='max_length',\n",
        "            return_attention_mask=True,\n",
        "            return_tensors='pt',\n",
        "        )\n",
        "\n",
        "        return {\n",
        "            'text': text,\n",
        "            'input_ids': encoding['input_ids'].flatten(),\n",
        "            'attention_mask': encoding['attention_mask'].flatten(),\n",
        "            'labels': torch.tensor(label, dtype=torch.long)\n",
        "        }\n"
      ],
      "metadata": {
        "id": "btWD0Wz-gu6j"
      },
      "execution_count": null,
      "outputs": []
    },
    {
      "cell_type": "code",
      "source": [],
      "metadata": {
        "id": "ou8efYPA-M_T"
      },
      "execution_count": null,
      "outputs": []
    },
    {
      "cell_type": "code",
      "source": [
        "# Initialize tokenizer\n",
        "tokenizer = BertTokenizer.from_pretrained('bert-base-uncased')\n",
        "\n",
        "# Define maximum sequence length\n",
        "MAX_LEN = 512\n",
        "\n",
        "# Create datasets\n",
        "train_dataset = ArticleDataset(doc_train_texts, doc_train_labels_encoded, tokenizer, MAX_LEN)\n",
        "test_dataset = ArticleDataset(doc_test_texts, doc_test_labels_encoded, tokenizer, MAX_LEN)\n"
      ],
      "metadata": {
        "id": "3ouFNAK7gw-9"
      },
      "execution_count": null,
      "outputs": []
    },
    {
      "cell_type": "code",
      "source": [
        "BATCH_SIZE = 8\n",
        "\n",
        "train_loader = DataLoader(train_dataset, batch_size=BATCH_SIZE, shuffle=True)\n",
        "test_loader = DataLoader(test_dataset, batch_size=BATCH_SIZE)\n"
      ],
      "metadata": {
        "id": "1iFPFPwYgy5H"
      },
      "execution_count": null,
      "outputs": []
    },
    {
      "cell_type": "code",
      "source": [
        "model = BertForSequenceClassification.from_pretrained(\n",
        "    'bert-base-uncased',\n",
        "    num_labels=num_labels,\n",
        "    output_attentions=False,\n",
        "    output_hidden_states=False\n",
        ")\n",
        "\n",
        "# Move model to GPU if available\n",
        "device = torch.device('cuda' if torch.cuda.is_available() else 'cpu')\n",
        "model = model.to(device)\n"
      ],
      "metadata": {
        "colab": {
          "base_uri": "https://localhost:8080/"
        },
        "id": "x54Y4dXOg0o3",
        "outputId": "7164c3a5-b11b-4278-b68c-b01f45801cd8"
      },
      "execution_count": null,
      "outputs": [
        {
          "output_type": "stream",
          "name": "stderr",
          "text": [
            "Some weights of BertForSequenceClassification were not initialized from the model checkpoint at bert-base-uncased and are newly initialized: ['classifier.bias', 'classifier.weight']\n",
            "You should probably TRAIN this model on a down-stream task to be able to use it for predictions and inference.\n"
          ]
        }
      ]
    },
    {
      "cell_type": "code",
      "source": [
        "from transformers import AdamW, get_linear_schedule_with_warmup\n",
        "\n",
        "EPOCHS = 10\n",
        "optimizer = AdamW(model.parameters(), lr=2e-5, eps=1e-8)\n",
        "\n",
        "total_steps = len(train_loader) * EPOCHS\n",
        "\n",
        "scheduler = get_linear_schedule_with_warmup(\n",
        "    optimizer,\n",
        "    num_warmup_steps=0,\n",
        "    num_training_steps=total_steps\n",
        ")\n"
      ],
      "metadata": {
        "colab": {
          "base_uri": "https://localhost:8080/"
        },
        "id": "gaIAiaBbg2a5",
        "outputId": "cadb0d97-13f9-4fcf-a90e-eddecfa07fa2"
      },
      "execution_count": null,
      "outputs": [
        {
          "output_type": "stream",
          "name": "stderr",
          "text": [
            "/usr/local/lib/python3.10/dist-packages/transformers/optimization.py:591: FutureWarning: This implementation of AdamW is deprecated and will be removed in a future version. Use the PyTorch implementation torch.optim.AdamW instead, or set `no_deprecation_warning=True` to disable this warning\n",
            "  warnings.warn(\n"
          ]
        }
      ]
    },
    {
      "cell_type": "code",
      "source": [
        "def train_epoch(model, data_loader, optimizer, scheduler, device):\n",
        "    model = model.train()\n",
        "    total_loss = 0\n",
        "\n",
        "    for batch in data_loader:\n",
        "        optimizer.zero_grad()\n",
        "\n",
        "        input_ids = batch['input_ids'].to(device)\n",
        "        attention_mask = batch['attention_mask'].to(device)\n",
        "        labels = batch['labels'].to(device)\n",
        "\n",
        "        outputs = model(\n",
        "            input_ids=input_ids,\n",
        "            attention_mask=attention_mask,\n",
        "            labels=labels\n",
        "        )\n",
        "\n",
        "        loss = outputs.loss\n",
        "        total_loss += loss.item()\n",
        "\n",
        "        loss.backward()\n",
        "        torch.nn.utils.clip_grad_norm_(model.parameters(), max_norm=1.0)\n",
        "        optimizer.step()\n",
        "        scheduler.step()\n",
        "\n",
        "    avg_loss = total_loss / len(data_loader)\n",
        "    return avg_loss\n",
        "\n",
        "def eval_model(model, data_loader, device):\n",
        "    model = model.eval()\n",
        "    total_loss = 0\n",
        "    predictions = []\n",
        "    true_labels = []\n",
        "\n",
        "    with torch.no_grad():\n",
        "        for batch in data_loader:\n",
        "            input_ids = batch['input_ids'].to(device)\n",
        "            attention_mask = batch['attention_mask'].to(device)\n",
        "            labels = batch['labels'].to(device)\n",
        "\n",
        "            outputs = model(\n",
        "                input_ids=input_ids,\n",
        "                attention_mask=attention_mask,\n",
        "                labels=labels\n",
        "            )\n",
        "\n",
        "            loss = outputs.loss\n",
        "            logits = outputs.logits\n",
        "\n",
        "            total_loss += loss.item()\n",
        "            preds = torch.argmax(logits, dim=1)\n",
        "            predictions.extend(preds.cpu().numpy())\n",
        "            true_labels.extend(labels.cpu().numpy())\n",
        "\n",
        "    avg_loss = total_loss / len(data_loader)\n",
        "    return avg_loss, predictions, true_labels\n"
      ],
      "metadata": {
        "id": "9P6N9Z-5g5n5"
      },
      "execution_count": null,
      "outputs": []
    },
    {
      "cell_type": "code",
      "source": [
        "import matplotlib.pyplot as plt\n",
        "\n",
        "# Initialize lists to store losses\n",
        "train_losses = []\n",
        "val_losses = []\n",
        "\n",
        "for epoch in range(EPOCHS):\n",
        "    print(f'Epoch {epoch + 1}/{EPOCHS}')\n",
        "    print('-' * 10)\n",
        "\n",
        "    # Train the model and store the loss\n",
        "    train_loss = train_epoch(model, train_loader, optimizer, scheduler, device)\n",
        "    train_losses.append(train_loss)\n",
        "    print(f'Training loss: {train_loss}')\n",
        "\n",
        "    # Validate the model and store the loss\n",
        "    val_loss, predictions, true_labels = eval_model(model, test_loader, device)\n",
        "    val_losses.append(val_loss)\n",
        "    print(f'Validation loss: {val_loss}')\n",
        "\n",
        "    # Decode labels back to original classes\n",
        "    true_labels_decoded = label_encoder.inverse_transform(true_labels)\n",
        "    predictions_decoded = label_encoder.inverse_transform(predictions)\n",
        "\n",
        "    # Classification report\n",
        "    print(classification_report(true_labels_decoded, predictions_decoded))\n",
        "\n",
        "# Plot Training and Validation Losses\n",
        "plt.figure(figsize=(10, 5))\n",
        "plt.plot(range(1, EPOCHS + 1), train_losses, label='Training Loss', marker='o')\n",
        "plt.plot(range(1, EPOCHS + 1), val_losses, label='Validation Loss', marker='o')\n",
        "plt.xlabel('Epochs')\n",
        "plt.ylabel('Loss')\n",
        "plt.title('Training and Validation Loss')\n",
        "plt.legend()\n",
        "plt.grid()\n",
        "plt.show()\n"
      ],
      "metadata": {
        "colab": {
          "base_uri": "https://localhost:8080/"
        },
        "id": "0kSypp04hCTP",
        "outputId": "fcb8ec2e-e9d2-49a4-a340-3e293130ffdb"
      },
      "execution_count": null,
      "outputs": [
        {
          "output_type": "stream",
          "name": "stdout",
          "text": [
            "Epoch 1/10\n",
            "----------\n",
            "Training loss: 1.1130810856819153\n",
            "Validation loss: 1.0618592649698257\n",
            "              precision    recall  f1-score   support\n",
            "\n",
            "      Center       0.45      1.00      0.62        27\n",
            "        Left       0.00      0.00      0.00        14\n",
            "       Right       0.00      0.00      0.00        19\n",
            "\n",
            "    accuracy                           0.45        60\n",
            "   macro avg       0.15      0.33      0.21        60\n",
            "weighted avg       0.20      0.45      0.28        60\n",
            "\n",
            "Epoch 2/10\n",
            "----------\n"
          ]
        },
        {
          "output_type": "stream",
          "name": "stderr",
          "text": [
            "/usr/local/lib/python3.10/dist-packages/sklearn/metrics/_classification.py:1531: UndefinedMetricWarning: Precision is ill-defined and being set to 0.0 in labels with no predicted samples. Use `zero_division` parameter to control this behavior.\n",
            "  _warn_prf(average, modifier, f\"{metric.capitalize()} is\", len(result))\n",
            "/usr/local/lib/python3.10/dist-packages/sklearn/metrics/_classification.py:1531: UndefinedMetricWarning: Precision is ill-defined and being set to 0.0 in labels with no predicted samples. Use `zero_division` parameter to control this behavior.\n",
            "  _warn_prf(average, modifier, f\"{metric.capitalize()} is\", len(result))\n",
            "/usr/local/lib/python3.10/dist-packages/sklearn/metrics/_classification.py:1531: UndefinedMetricWarning: Precision is ill-defined and being set to 0.0 in labels with no predicted samples. Use `zero_division` parameter to control this behavior.\n",
            "  _warn_prf(average, modifier, f\"{metric.capitalize()} is\", len(result))\n"
          ]
        },
        {
          "output_type": "stream",
          "name": "stdout",
          "text": [
            "Training loss: 1.0404356161753336\n",
            "Validation loss: 1.0794429779052734\n",
            "              precision    recall  f1-score   support\n",
            "\n",
            "      Center       0.45      1.00      0.62        27\n",
            "        Left       0.00      0.00      0.00        14\n",
            "       Right       0.00      0.00      0.00        19\n",
            "\n",
            "    accuracy                           0.45        60\n",
            "   macro avg       0.15      0.33      0.21        60\n",
            "weighted avg       0.20      0.45      0.28        60\n",
            "\n",
            "Epoch 3/10\n",
            "----------\n"
          ]
        },
        {
          "output_type": "stream",
          "name": "stderr",
          "text": [
            "/usr/local/lib/python3.10/dist-packages/sklearn/metrics/_classification.py:1531: UndefinedMetricWarning: Precision is ill-defined and being set to 0.0 in labels with no predicted samples. Use `zero_division` parameter to control this behavior.\n",
            "  _warn_prf(average, modifier, f\"{metric.capitalize()} is\", len(result))\n",
            "/usr/local/lib/python3.10/dist-packages/sklearn/metrics/_classification.py:1531: UndefinedMetricWarning: Precision is ill-defined and being set to 0.0 in labels with no predicted samples. Use `zero_division` parameter to control this behavior.\n",
            "  _warn_prf(average, modifier, f\"{metric.capitalize()} is\", len(result))\n",
            "/usr/local/lib/python3.10/dist-packages/sklearn/metrics/_classification.py:1531: UndefinedMetricWarning: Precision is ill-defined and being set to 0.0 in labels with no predicted samples. Use `zero_division` parameter to control this behavior.\n",
            "  _warn_prf(average, modifier, f\"{metric.capitalize()} is\", len(result))\n"
          ]
        },
        {
          "output_type": "stream",
          "name": "stdout",
          "text": [
            "Training loss: 1.0043991029262542\n",
            "Validation loss: 1.091030053794384\n",
            "              precision    recall  f1-score   support\n",
            "\n",
            "      Center       0.45      1.00      0.62        27\n",
            "        Left       0.00      0.00      0.00        14\n",
            "       Right       0.00      0.00      0.00        19\n",
            "\n",
            "    accuracy                           0.45        60\n",
            "   macro avg       0.15      0.33      0.21        60\n",
            "weighted avg       0.20      0.45      0.28        60\n",
            "\n",
            "Epoch 4/10\n",
            "----------\n"
          ]
        },
        {
          "output_type": "stream",
          "name": "stderr",
          "text": [
            "/usr/local/lib/python3.10/dist-packages/sklearn/metrics/_classification.py:1531: UndefinedMetricWarning: Precision is ill-defined and being set to 0.0 in labels with no predicted samples. Use `zero_division` parameter to control this behavior.\n",
            "  _warn_prf(average, modifier, f\"{metric.capitalize()} is\", len(result))\n",
            "/usr/local/lib/python3.10/dist-packages/sklearn/metrics/_classification.py:1531: UndefinedMetricWarning: Precision is ill-defined and being set to 0.0 in labels with no predicted samples. Use `zero_division` parameter to control this behavior.\n",
            "  _warn_prf(average, modifier, f\"{metric.capitalize()} is\", len(result))\n",
            "/usr/local/lib/python3.10/dist-packages/sklearn/metrics/_classification.py:1531: UndefinedMetricWarning: Precision is ill-defined and being set to 0.0 in labels with no predicted samples. Use `zero_division` parameter to control this behavior.\n",
            "  _warn_prf(average, modifier, f\"{metric.capitalize()} is\", len(result))\n"
          ]
        },
        {
          "output_type": "stream",
          "name": "stdout",
          "text": [
            "Training loss: 0.9628209471702576\n",
            "Validation loss: 1.0783167779445648\n",
            "              precision    recall  f1-score   support\n",
            "\n",
            "      Center       0.44      0.93      0.60        27\n",
            "        Left       1.00      0.07      0.13        14\n",
            "       Right       0.00      0.00      0.00        19\n",
            "\n",
            "    accuracy                           0.43        60\n",
            "   macro avg       0.48      0.33      0.24        60\n",
            "weighted avg       0.43      0.43      0.30        60\n",
            "\n",
            "Epoch 5/10\n",
            "----------\n",
            "Training loss: 0.7715058634678523\n",
            "Validation loss: 1.222169190645218\n",
            "              precision    recall  f1-score   support\n",
            "\n",
            "      Center       0.33      0.48      0.39        27\n",
            "        Left       0.17      0.07      0.10        14\n",
            "       Right       0.27      0.21      0.24        19\n",
            "\n",
            "    accuracy                           0.30        60\n",
            "   macro avg       0.26      0.25      0.24        60\n",
            "weighted avg       0.27      0.30      0.28        60\n",
            "\n",
            "Epoch 6/10\n",
            "----------\n",
            "Training loss: 0.6364878336588542\n",
            "Validation loss: 1.3288972973823547\n",
            "              precision    recall  f1-score   support\n",
            "\n",
            "      Center       0.44      0.93      0.60        27\n",
            "        Left       0.00      0.00      0.00        14\n",
            "       Right       0.33      0.05      0.09        19\n",
            "\n",
            "    accuracy                           0.43        60\n",
            "   macro avg       0.26      0.33      0.23        60\n",
            "weighted avg       0.30      0.43      0.30        60\n",
            "\n",
            "Epoch 7/10\n",
            "----------\n"
          ]
        },
        {
          "output_type": "stream",
          "name": "stderr",
          "text": [
            "/usr/local/lib/python3.10/dist-packages/sklearn/metrics/_classification.py:1531: UndefinedMetricWarning: Precision is ill-defined and being set to 0.0 in labels with no predicted samples. Use `zero_division` parameter to control this behavior.\n",
            "  _warn_prf(average, modifier, f\"{metric.capitalize()} is\", len(result))\n",
            "/usr/local/lib/python3.10/dist-packages/sklearn/metrics/_classification.py:1531: UndefinedMetricWarning: Precision is ill-defined and being set to 0.0 in labels with no predicted samples. Use `zero_division` parameter to control this behavior.\n",
            "  _warn_prf(average, modifier, f\"{metric.capitalize()} is\", len(result))\n",
            "/usr/local/lib/python3.10/dist-packages/sklearn/metrics/_classification.py:1531: UndefinedMetricWarning: Precision is ill-defined and being set to 0.0 in labels with no predicted samples. Use `zero_division` parameter to control this behavior.\n",
            "  _warn_prf(average, modifier, f\"{metric.capitalize()} is\", len(result))\n"
          ]
        },
        {
          "output_type": "stream",
          "name": "stdout",
          "text": [
            "Training loss: 0.5277624418338139\n",
            "Validation loss: 1.366205483675003\n",
            "              precision    recall  f1-score   support\n",
            "\n",
            "      Center       0.36      0.63      0.46        27\n",
            "        Left       0.50      0.07      0.12        14\n",
            "       Right       0.09      0.05      0.07        19\n",
            "\n",
            "    accuracy                           0.32        60\n",
            "   macro avg       0.32      0.25      0.22        60\n",
            "weighted avg       0.31      0.32      0.26        60\n",
            "\n",
            "Epoch 8/10\n",
            "----------\n",
            "Training loss: 0.4206020380059878\n",
            "Validation loss: 1.419554851949215\n",
            "              precision    recall  f1-score   support\n",
            "\n",
            "      Center       0.40      0.70      0.51        27\n",
            "        Left       0.33      0.07      0.12        14\n",
            "       Right       0.33      0.16      0.21        19\n",
            "\n",
            "    accuracy                           0.38        60\n",
            "   macro avg       0.35      0.31      0.28        60\n",
            "weighted avg       0.36      0.38      0.32        60\n",
            "\n",
            "Epoch 9/10\n",
            "----------\n",
            "Training loss: 0.33617412149906156\n",
            "Validation loss: 1.4619549438357353\n",
            "              precision    recall  f1-score   support\n",
            "\n",
            "      Center       0.39      0.74      0.51        27\n",
            "        Left       0.33      0.07      0.12        14\n",
            "       Right       0.17      0.05      0.08        19\n",
            "\n",
            "    accuracy                           0.37        60\n",
            "   macro avg       0.30      0.29      0.24        60\n",
            "weighted avg       0.31      0.37      0.28        60\n",
            "\n",
            "Epoch 10/10\n",
            "----------\n",
            "Training loss: 0.29923105239868164\n",
            "Validation loss: 1.4580739736557007\n",
            "              precision    recall  f1-score   support\n",
            "\n",
            "      Center       0.42      0.74      0.53        27\n",
            "        Left       0.50      0.07      0.12        14\n",
            "       Right       0.30      0.16      0.21        19\n",
            "\n",
            "    accuracy                           0.40        60\n",
            "   macro avg       0.41      0.32      0.29        60\n",
            "weighted avg       0.40      0.40      0.33        60\n",
            "\n"
          ]
        },
        {
          "output_type": "display_data",
          "data": {
            "text/plain": [
              "<Figure size 1000x500 with 1 Axes>"
            ],
            "image/png": "[encoded data removed]"
          },
          "metadata": {}
        }
      ]
    },
    {
      "cell_type": "code",
      "source": [],
      "metadata": {
        "id": "_rB1BTwShLj1"
      },
      "execution_count": null,
      "outputs": []
    },
    {
      "cell_type": "code",
      "source": [],
      "metadata": {
        "id": "VLhp-XIuFD4d"
      },
      "execution_count": null,
      "outputs": []
    }
  ]
}